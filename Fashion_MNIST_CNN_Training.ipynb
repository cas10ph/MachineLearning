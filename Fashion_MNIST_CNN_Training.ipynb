{
  "nbformat": 4,
  "nbformat_minor": 0,
  "metadata": {
    "anaconda-cloud": {},
    "kernelspec": {
      "name": "python3",
      "display_name": "Python 3"
    },
    "language_info": {
      "codemirror_mode": {
        "name": "ipython",
        "version": 3
      },
      "file_extension": ".py",
      "mimetype": "text/x-python",
      "name": "python",
      "nbconvert_exporter": "python",
      "pygments_lexer": "ipython3",
      "version": "3.6.8"
    },
    "colab": {
      "name": "Fashion_MNIST_CNN_Training.ipynb",
      "provenance": [],
      "collapsed_sections": [],
      "include_colab_link": true
    },
    "accelerator": "GPU"
  },
  "cells": [
    {
      "cell_type": "markdown",
      "metadata": {
        "id": "view-in-github",
        "colab_type": "text"
      },
      "source": [
        "<a href=\"https://colab.research.google.com/github/cas10ph/MachineLearning/blob/master/Fashion_MNIST_CNN_Training.ipynb\" target=\"_parent\"><img src=\"https://colab.research.google.com/assets/colab-badge.svg\" alt=\"Open In Colab\"/></a>"
      ]
    },
    {
      "cell_type": "markdown",
      "metadata": {
        "id": "GN77vsrTjM04",
        "colab_type": "text"
      },
      "source": [
        "## Convolutional Neural Network Model\n",
        "\n",
        "[Convolutional Neural Networks](https://en.wikipedia.org/wiki/Convolutional_neural_network) (CNNs) exhibit exceptional performance, particularly for image recognition. The inpiration for CNNs comes from the visual cortex of animal brains. CNNs are space and shift invariant, which is an important property for image recognition.\n",
        "\n",
        "This example requires Python 3, Tensorflow 2, matplotlib, and numpy. Training a CNN mode will take longer than a simpler, fully connected model, so GPU training is preferred."
      ]
    },
    {
      "cell_type": "code",
      "metadata": {
        "id": "DOMcJwFRjOpz",
        "colab_type": "code",
        "colab": {}
      },
      "source": [
        "%tensorflow_version 2.x"
      ],
      "execution_count": 1,
      "outputs": []
    },
    {
      "cell_type": "code",
      "metadata": {
        "id": "mHWfBk3sjM1m",
        "colab_type": "code",
        "colab": {}
      },
      "source": [
        "from tensorflow.keras.datasets import fashion_mnist\n",
        "\n",
        "from tensorflow.keras.models import Sequential\n",
        "from tensorflow.keras.layers import Dense, Dropout, Flatten\n",
        "from tensorflow.keras.layers import Conv2D, MaxPooling2D\n",
        "from tensorflow.keras import backend as K\n",
        "from tensorflow.keras.optimizers import Adam\n",
        "from matplotlib import pyplot as plt\n",
        "import numpy as np\n",
        "import random"
      ],
      "execution_count": 2,
      "outputs": []
    },
    {
      "cell_type": "markdown",
      "metadata": {
        "id": "wgM5FuvXjM15",
        "colab_type": "text"
      },
      "source": [
        "These are some configuration parameters and hyperparameters."
      ]
    },
    {
      "cell_type": "code",
      "metadata": {
        "id": "L9Nu8uRSjM18",
        "colab_type": "code",
        "colab": {}
      },
      "source": [
        "# Input image dimensions\n",
        "img_rows, img_cols = 28, 28\n",
        "\n",
        "# The number of training samples per batch. 128 is a reasonable number.\n",
        "batch_size = 128\n",
        "\n",
        "# Our data set contains 10 digits, so the number of classes is 10\n",
        "num_classes = 10\n",
        "\n",
        "# epochs is the number of times the model is trained with the data set, more can be better, up to a point\n",
        "epochs = 40\n",
        "\n",
        "# dropout is a common regularization hyperperameter. It helps to avoid overfitting or memorizing the input.\n",
        "dropout = 0.6"
      ],
      "execution_count": 3,
      "outputs": []
    },
    {
      "cell_type": "markdown",
      "metadata": {
        "id": "OB_ROKhkjM2H",
        "colab_type": "text"
      },
      "source": [
        "### Load data\n",
        "\n",
        "Keras has a builting function for loading Fashion MNIST data and splitting it into train and test sets. x_train and x_test are arrays of train and test input images respectively. Images are represented as a 28 x 28 matrix of pixel values. y_train and y_test are train and test labels respectively.\n",
        "\n",
        "The [fashion_mnist](https://github.com/zalandoresearch/fashion-mnist) data: \n",
        "60,000 train and 10,000 test data with 10 categories. Each gray-scale image is 28x28.\n",
        "<br> **Label**\t**Description**\n",
        "<br> 0 T-shirt/top\n",
        "<br> 1 Trouser\n",
        "<br> 2 Pullover\n",
        "<br> 3 Dress\n",
        "<br> 4 Coat\n",
        "<br> 5 Sandal\n",
        "<br> 6 Shirt\n",
        "<br> 7 Sneaker\n",
        "<br> 8 Bag\n",
        "<br> 9 Ankle boot\n",
        "\n",
        "Each gray-scale image is 28x28"
      ]
    },
    {
      "cell_type": "code",
      "metadata": {
        "id": "xNZd9SiqlLPo",
        "colab_type": "code",
        "colab": {
          "base_uri": "https://localhost:8080/",
          "height": 163
        },
        "outputId": "d4f3c2d5-4351-412a-ec78-7f8ea03d5e96"
      },
      "source": [
        "(x_train, y_train), (x_test, y_test) = fashion_mnist.load_data()\n",
        "\n",
        "\n",
        "# Save original test images for display purposes\n",
        "orig_test = x_test"
      ],
      "execution_count": 4,
      "outputs": [
        {
          "output_type": "stream",
          "text": [
            "Downloading data from https://storage.googleapis.com/tensorflow/tf-keras-datasets/train-labels-idx1-ubyte.gz\n",
            "32768/29515 [=================================] - 0s 0us/step\n",
            "Downloading data from https://storage.googleapis.com/tensorflow/tf-keras-datasets/train-images-idx3-ubyte.gz\n",
            "26427392/26421880 [==============================] - 0s 0us/step\n",
            "Downloading data from https://storage.googleapis.com/tensorflow/tf-keras-datasets/t10k-labels-idx1-ubyte.gz\n",
            "8192/5148 [===============================================] - 0s 0us/step\n",
            "Downloading data from https://storage.googleapis.com/tensorflow/tf-keras-datasets/t10k-images-idx3-ubyte.gz\n",
            "4423680/4422102 [==============================] - 0s 0us/step\n"
          ],
          "name": "stdout"
        }
      ]
    },
    {
      "cell_type": "markdown",
      "metadata": {
        "id": "cGUVT3axlc23",
        "colab_type": "text"
      },
      "source": [
        "![alt text](https://)The following cell displays random test images to get an idea of what they look like."
      ]
    },
    {
      "cell_type": "code",
      "metadata": {
        "id": "qEFrHyHVlXtF",
        "colab_type": "code",
        "colab": {
          "base_uri": "https://localhost:8080/",
          "height": 281
        },
        "outputId": "0daf8e40-1644-4d09-8133-e7e7989e1bb2"
      },
      "source": [
        "index = random.randrange(1000)\n",
        "plt.imshow(orig_test[index], cmap='gray')\n",
        "plt.title('Label: %d' % y_test[index])\n",
        "plt.show()"
      ],
      "execution_count": 5,
      "outputs": [
        {
          "output_type": "display_data",
          "data": {
            "image/png": "[encoded data removed]",
            "text/plain": [
              "<Figure size 432x288 with 1 Axes>"
            ]
          },
          "metadata": {
            "tags": [],
            "needs_background": "light"
          }
        }
      ]
    },
    {
      "cell_type": "markdown",
      "metadata": {
        "id": "kOns6ruZlMrD",
        "colab_type": "text"
      },
      "source": [
        "### Data Preparation\n",
        "\n",
        "Pixel values are normalized into values ranging from 0.0 - 1.0."
      ]
    },
    {
      "cell_type": "code",
      "metadata": {
        "id": "AcbM1pEqjM2L",
        "colab_type": "code",
        "colab": {
          "base_uri": "https://localhost:8080/",
          "height": 54
        },
        "outputId": "0f6180fa-8b6e-4fc5-b858-7f04a07ceaa1"
      },
      "source": [
        "if K.image_data_format() == 'channels_first':\n",
        "    x_train = x_train.reshape(x_train.shape[0], 1, img_rows, img_cols)\n",
        "    x_test = x_test.reshape(x_test.shape[0], 1, img_rows, img_cols)\n",
        "    input_shape = (1, img_rows, img_cols)\n",
        "else:\n",
        "    x_train = x_train.reshape(x_train.shape[0], img_rows, img_cols, 1)\n",
        "    x_test = x_test.reshape(x_test.shape[0], img_rows, img_cols, 1)\n",
        "    input_shape = (img_rows, img_cols, 1)\n",
        "    \n",
        "x_train, x_test = x_train / 255.0, x_test / 255.0\n",
        "\n",
        "print(x_train.shape[0], 'train samples')\n",
        "print(x_test.shape[0], 'test samples')"
      ],
      "execution_count": 6,
      "outputs": [
        {
          "output_type": "stream",
          "text": [
            "60000 train samples\n",
            "10000 test samples\n"
          ],
          "name": "stdout"
        }
      ]
    },
    {
      "cell_type": "markdown",
      "metadata": {
        "id": "hWEsjkQ5jM2v",
        "colab_type": "text"
      },
      "source": [
        "### Define Model\n",
        "\n",
        "CNNs are like two dimensional [Finite Impulse Response](https://en.wikipedia.org/wiki/Finite_impulse_response) (FIR) filters commonly used in signal processing. Models with over 100 CNN, pooling, padding, and other layers have been successfully trained to recognize complex objects as well as multiple objects in the one image.\n",
        "\n",
        "This model uses two convolutional layers, a max pooling layer, a dense layer, and a one-hot encoded output layer. Even with these few layers, this model can achieve over 99% accuracy."
      ]
    },
    {
      "cell_type": "code",
      "metadata": {
        "id": "mF5kDTK3jM2y",
        "colab_type": "code",
        "colab": {
          "base_uri": "https://localhost:8080/",
          "height": 454
        },
        "outputId": "169d7a8c-d568-46b3-8163-4555b702a247"
      },
      "source": [
        "model = Sequential()\n",
        "model.add(Conv2D(32, kernel_size=(3, 3), activation='relu', input_shape=input_shape))\n",
        "model.add(Conv2D(64, (3, 3), activation='relu'))\n",
        "model.add(MaxPooling2D(pool_size=(2, 2)))\n",
        "model.add(Dropout(dropout/2))\n",
        "model.add(Flatten())\n",
        "model.add(Dense(128, activation='relu'))\n",
        "model.add(Dropout(dropout))\n",
        "model.add(Dense(num_classes, activation='softmax'))\n",
        "\n",
        "model.summary()"
      ],
      "execution_count": 7,
      "outputs": [
        {
          "output_type": "stream",
          "text": [
            "Model: \"sequential\"\n",
            "_________________________________________________________________\n",
            "Layer (type)                 Output Shape              Param #   \n",
            "=================================================================\n",
            "conv2d (Conv2D)              (None, 26, 26, 32)        320       \n",
            "_________________________________________________________________\n",
            "conv2d_1 (Conv2D)            (None, 24, 24, 64)        18496     \n",
            "_________________________________________________________________\n",
            "max_pooling2d (MaxPooling2D) (None, 12, 12, 64)        0         \n",
            "_________________________________________________________________\n",
            "dropout (Dropout)            (None, 12, 12, 64)        0         \n",
            "_________________________________________________________________\n",
            "flatten (Flatten)            (None, 9216)              0         \n",
            "_________________________________________________________________\n",
            "dense (Dense)                (None, 128)               1179776   \n",
            "_________________________________________________________________\n",
            "dropout_1 (Dropout)          (None, 128)               0         \n",
            "_________________________________________________________________\n",
            "dense_1 (Dense)              (None, 10)                1290      \n",
            "=================================================================\n",
            "Total params: 1,199,882\n",
            "Trainable params: 1,199,882\n",
            "Non-trainable params: 0\n",
            "_________________________________________________________________\n"
          ],
          "name": "stdout"
        }
      ]
    },
    {
      "cell_type": "markdown",
      "metadata": {
        "id": "JMHjxcZEjM26",
        "colab_type": "text"
      },
      "source": [
        "### Train Model\n",
        "\n",
        "This is more or less boilerplate Keras code to train the model given the training data set. Keras can also evaluate the trained model given the test data set. Matplotlib is used to plot train and test accuracy as a function of the epoch number.\n",
        "\n",
        "Ideally, the accuracy with test and train data should be about the same. Low training accuracy means the model exhibits high bias. High bias could be caused by a weak model, not enough training examples, or too few training epochs. High train accuracy and low test accuracy is a case of high variance. This means the model is more or less \"memorizing\" the expected output and not generalizing well. High variance can be reduced through *regularization*."
      ]
    },
    {
      "cell_type": "code",
      "metadata": {
        "id": "hNbcqP__jM29",
        "colab_type": "code",
        "colab": {
          "base_uri": "https://localhost:8080/",
          "height": 1000
        },
        "outputId": "aaf3f7d4-4121-4abf-9963-73acefb61f1e"
      },
      "source": [
        "model.compile(loss='sparse_categorical_crossentropy', optimizer=Adam(), metrics=['accuracy'])\n",
        "\n",
        "# Train model for a given number of epochs\n",
        "history = model.fit(x_train, y_train, batch_size=batch_size, epochs=epochs, verbose=1, validation_data=(x_test, y_test))\n",
        "\n",
        "# Evaluate model against test data\n",
        "score = model.evaluate(x_test, y_test, verbose=0)\n",
        "print('Test loss:', score[0])\n",
        "print('Test accuracy:', score[1])\n",
        "\n",
        "# summarize history for accuracy\n",
        "plt.plot(history.history['accuracy'])\n",
        "plt.plot(history.history['val_accuracy'])\n",
        "plt.title('Model accuracy')\n",
        "plt.ylabel('Accuracy')\n",
        "plt.xlabel('Epoch')\n",
        "plt.legend(['Train', 'Test'], loc='upper left')\n",
        "plt.show()"
      ],
      "execution_count": 8,
      "outputs": [
        {
          "output_type": "stream",
          "text": [
            "Epoch 1/40\n",
            "469/469 [==============================] - 4s 9ms/step - loss: 0.5832 - accuracy: 0.7951 - val_loss: 0.3614 - val_accuracy: 0.8692\n",
            "Epoch 2/40\n",
            "469/469 [==============================] - 4s 8ms/step - loss: 0.3898 - accuracy: 0.8632 - val_loss: 0.3088 - val_accuracy: 0.8896\n",
            "Epoch 3/40\n",
            "469/469 [==============================] - 4s 8ms/step - loss: 0.3359 - accuracy: 0.8798 - val_loss: 0.2791 - val_accuracy: 0.8989\n",
            "Epoch 4/40\n",
            "469/469 [==============================] - 4s 8ms/step - loss: 0.3032 - accuracy: 0.8911 - val_loss: 0.2576 - val_accuracy: 0.9039\n",
            "Epoch 5/40\n",
            "469/469 [==============================] - 4s 8ms/step - loss: 0.2757 - accuracy: 0.9000 - val_loss: 0.2508 - val_accuracy: 0.9082\n",
            "Epoch 6/40\n",
            "469/469 [==============================] - 4s 8ms/step - loss: 0.2589 - accuracy: 0.9066 - val_loss: 0.2382 - val_accuracy: 0.9135\n",
            "Epoch 7/40\n",
            "469/469 [==============================] - 4s 8ms/step - loss: 0.2421 - accuracy: 0.9117 - val_loss: 0.2440 - val_accuracy: 0.9104\n",
            "Epoch 8/40\n",
            "469/469 [==============================] - 4s 8ms/step - loss: 0.2278 - accuracy: 0.9183 - val_loss: 0.2377 - val_accuracy: 0.9143\n",
            "Epoch 9/40\n",
            "469/469 [==============================] - 4s 8ms/step - loss: 0.2157 - accuracy: 0.9206 - val_loss: 0.2164 - val_accuracy: 0.9226\n",
            "Epoch 10/40\n",
            "469/469 [==============================] - 4s 8ms/step - loss: 0.2030 - accuracy: 0.9255 - val_loss: 0.2232 - val_accuracy: 0.9179\n",
            "Epoch 11/40\n",
            "469/469 [==============================] - 4s 8ms/step - loss: 0.1963 - accuracy: 0.9278 - val_loss: 0.2211 - val_accuracy: 0.9210\n",
            "Epoch 12/40\n",
            "469/469 [==============================] - 4s 8ms/step - loss: 0.1851 - accuracy: 0.9307 - val_loss: 0.2077 - val_accuracy: 0.9262\n",
            "Epoch 13/40\n",
            "469/469 [==============================] - 4s 8ms/step - loss: 0.1774 - accuracy: 0.9349 - val_loss: 0.2057 - val_accuracy: 0.9282\n",
            "Epoch 14/40\n",
            "469/469 [==============================] - 4s 8ms/step - loss: 0.1706 - accuracy: 0.9362 - val_loss: 0.2148 - val_accuracy: 0.9261\n",
            "Epoch 15/40\n",
            "469/469 [==============================] - 4s 8ms/step - loss: 0.1652 - accuracy: 0.9374 - val_loss: 0.2130 - val_accuracy: 0.9256\n",
            "Epoch 16/40\n",
            "469/469 [==============================] - 4s 8ms/step - loss: 0.1589 - accuracy: 0.9403 - val_loss: 0.2128 - val_accuracy: 0.9284\n",
            "Epoch 17/40\n",
            "469/469 [==============================] - 4s 8ms/step - loss: 0.1514 - accuracy: 0.9418 - val_loss: 0.2162 - val_accuracy: 0.9272\n",
            "Epoch 18/40\n",
            "469/469 [==============================] - 4s 8ms/step - loss: 0.1453 - accuracy: 0.9450 - val_loss: 0.2134 - val_accuracy: 0.9286\n",
            "Epoch 19/40\n",
            "469/469 [==============================] - 4s 8ms/step - loss: 0.1419 - accuracy: 0.9457 - val_loss: 0.2285 - val_accuracy: 0.9260\n",
            "Epoch 20/40\n",
            "469/469 [==============================] - 4s 8ms/step - loss: 0.1400 - accuracy: 0.9470 - val_loss: 0.2163 - val_accuracy: 0.9302\n",
            "Epoch 21/40\n",
            "469/469 [==============================] - 4s 8ms/step - loss: 0.1348 - accuracy: 0.9485 - val_loss: 0.2243 - val_accuracy: 0.9296\n",
            "Epoch 22/40\n",
            "469/469 [==============================] - 4s 8ms/step - loss: 0.1319 - accuracy: 0.9492 - val_loss: 0.2227 - val_accuracy: 0.9309\n",
            "Epoch 23/40\n",
            "469/469 [==============================] - 4s 8ms/step - loss: 0.1278 - accuracy: 0.9503 - val_loss: 0.2160 - val_accuracy: 0.9316\n",
            "Epoch 24/40\n",
            "469/469 [==============================] - 4s 8ms/step - loss: 0.1235 - accuracy: 0.9528 - val_loss: 0.2315 - val_accuracy: 0.9304\n",
            "Epoch 25/40\n",
            "469/469 [==============================] - 4s 8ms/step - loss: 0.1241 - accuracy: 0.9507 - val_loss: 0.2329 - val_accuracy: 0.9301\n",
            "Epoch 26/40\n",
            "469/469 [==============================] - 4s 8ms/step - loss: 0.1171 - accuracy: 0.9547 - val_loss: 0.2300 - val_accuracy: 0.9293\n",
            "Epoch 27/40\n",
            "469/469 [==============================] - 4s 8ms/step - loss: 0.1160 - accuracy: 0.9560 - val_loss: 0.2337 - val_accuracy: 0.9306\n",
            "Epoch 28/40\n",
            "469/469 [==============================] - 4s 8ms/step - loss: 0.1144 - accuracy: 0.9561 - val_loss: 0.2417 - val_accuracy: 0.9303\n",
            "Epoch 29/40\n",
            "469/469 [==============================] - 4s 8ms/step - loss: 0.1117 - accuracy: 0.9568 - val_loss: 0.2625 - val_accuracy: 0.9247\n",
            "Epoch 30/40\n",
            "469/469 [==============================] - 4s 8ms/step - loss: 0.1103 - accuracy: 0.9571 - val_loss: 0.2580 - val_accuracy: 0.9290\n",
            "Epoch 31/40\n",
            "469/469 [==============================] - 4s 8ms/step - loss: 0.1064 - accuracy: 0.9592 - val_loss: 0.2359 - val_accuracy: 0.9317\n",
            "Epoch 32/40\n",
            "469/469 [==============================] - 4s 8ms/step - loss: 0.1047 - accuracy: 0.9593 - val_loss: 0.2349 - val_accuracy: 0.9313\n",
            "Epoch 33/40\n",
            "469/469 [==============================] - 4s 8ms/step - loss: 0.1027 - accuracy: 0.9607 - val_loss: 0.2344 - val_accuracy: 0.9329\n",
            "Epoch 34/40\n",
            "469/469 [==============================] - 4s 8ms/step - loss: 0.1011 - accuracy: 0.9610 - val_loss: 0.2687 - val_accuracy: 0.9278\n",
            "Epoch 35/40\n",
            "469/469 [==============================] - 4s 8ms/step - loss: 0.1020 - accuracy: 0.9601 - val_loss: 0.2513 - val_accuracy: 0.9282\n",
            "Epoch 36/40\n",
            "469/469 [==============================] - 4s 8ms/step - loss: 0.0984 - accuracy: 0.9625 - val_loss: 0.2573 - val_accuracy: 0.9305\n",
            "Epoch 37/40\n",
            "469/469 [==============================] - 4s 8ms/step - loss: 0.1011 - accuracy: 0.9607 - val_loss: 0.2579 - val_accuracy: 0.9309\n",
            "Epoch 38/40\n",
            "469/469 [==============================] - 4s 8ms/step - loss: 0.0922 - accuracy: 0.9639 - val_loss: 0.2571 - val_accuracy: 0.9312\n",
            "Epoch 39/40\n",
            "469/469 [==============================] - 4s 8ms/step - loss: 0.0921 - accuracy: 0.9643 - val_loss: 0.2692 - val_accuracy: 0.9289\n",
            "Epoch 40/40\n",
            "469/469 [==============================] - 4s 8ms/step - loss: 0.0932 - accuracy: 0.9632 - val_loss: 0.2654 - val_accuracy: 0.9265\n",
            "Test loss: 0.26543956995010376\n",
            "Test accuracy: 0.9265000224113464\n"
          ],
          "name": "stdout"
        },
        {
          "output_type": "display_data",
          "data": {
            "image/png": "[encoded data removed]",
            "text/plain": [
              "<Figure size 432x288 with 1 Axes>"
            ]
          },
          "metadata": {
            "tags": [],
            "needs_background": "light"
          }
        }
      ]
    },
    {
      "cell_type": "markdown",
      "metadata": {
        "id": "YmGm6OSVjM3G",
        "colab_type": "text"
      },
      "source": [
        "### Make Predictions\n",
        "\n",
        "Let's make some predictions using the trained model from above. This model could have been read from a file of a previously trained model. To see an example of restoring a trained model, take a look at the [MNIST Prediction](https://github.com/msiddalingaiah/MachineLearning/blob/master/MNIST/MNIST_Prediction.ipynb) notebook.\n",
        "\n",
        "Note that x_test has been reshaped in an earlier cell to suit this model."
      ]
    },
    {
      "cell_type": "code",
      "metadata": {
        "id": "Q42ckWf6jM3K",
        "colab_type": "code",
        "colab": {}
      },
      "source": [
        "predictions = model.predict(x_test)\n",
        "most_likely = predictions.argmax(1)"
      ],
      "execution_count": 9,
      "outputs": []
    },
    {
      "cell_type": "markdown",
      "metadata": {
        "id": "oFh7qmw-jM3S",
        "colab_type": "text"
      },
      "source": [
        "The following cell chooses a random test image, prints the model predicted value, expected value (label), and the original image."
      ]
    },
    {
      "cell_type": "code",
      "metadata": {
        "id": "Hmx7E54jjM3V",
        "colab_type": "code",
        "colab": {
          "base_uri": "https://localhost:8080/",
          "height": 281
        },
        "outputId": "3a4537e3-50fa-414b-f92b-56e121774b7d"
      },
      "source": [
        "index = random.randrange(10000)\n",
        "plt.title('Prediction: %d, label: %d' % (most_likely[index], y_test[index]))\n",
        "plt.imshow(orig_test[index], cmap='gray')\n",
        "plt.show()"
      ],
      "execution_count": 10,
      "outputs": [
        {
          "output_type": "display_data",
          "data": {
            "image/png": "[encoded data removed]",
            "text/plain": [
              "<Figure size 432x288 with 1 Axes>"
            ]
          },
          "metadata": {
            "tags": [],
            "needs_background": "light"
          }
        }
      ]
    },
    {
      "cell_type": "markdown",
      "metadata": {
        "id": "J9wOZZiXjM3b",
        "colab_type": "text"
      },
      "source": [
        "### Error Analysis\n",
        "\n",
        "The next cell looks for model predictions that specifically do not match the expected value. In some cases, even humans might disagree on what this image is."
      ]
    },
    {
      "cell_type": "code",
      "metadata": {
        "id": "HoOvG05sjM3d",
        "colab_type": "code",
        "colab": {
          "base_uri": "https://localhost:8080/",
          "height": 545
        },
        "outputId": "118d721f-1cfc-4685-94cf-10aedb8602e1"
      },
      "source": [
        "for i in range(10000):\n",
        "    index = random.randrange(10000)\n",
        "    if most_likely[index] != y_test[index]:\n",
        "        break\n",
        "\n",
        "plt.imshow(orig_test[index], cmap='gray')\n",
        "plt.title('Prediction: %d, label: %d' % (most_likely[index], y_test[index]))\n",
        "plt.show()\n",
        "\n",
        "plt.bar(range(10), predictions[index], tick_label=range(10))\n",
        "plt.title('Prediction values')\n",
        "plt.show()"
      ],
      "execution_count": 11,
      "outputs": [
        {
          "output_type": "display_data",
          "data": {
            "image/png": "[encoded data removed]",
            "text/plain": [
              "<Figure size 432x288 with 1 Axes>"
            ]
          },
          "metadata": {
            "tags": [],
            "needs_background": "light"
          }
        },
        {
          "output_type": "display_data",
          "data": {
            "image/png": "[encoded data removed]",
            "text/plain": [
              "<Figure size 432x288 with 1 Axes>"
            ]
          },
          "metadata": {
            "tags": [],
            "needs_background": "light"
          }
        }
      ]
    },
    {
      "cell_type": "code",
      "metadata": {
        "id": "p4Rq5dA-jM3n",
        "colab_type": "code",
        "colab": {}
      },
      "source": [
        ""
      ],
      "execution_count": 11,
      "outputs": []
    }
  ]
}